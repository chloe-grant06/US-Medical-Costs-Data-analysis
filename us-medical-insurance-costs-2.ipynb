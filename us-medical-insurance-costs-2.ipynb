{
 "cells": [
  {
   "cell_type": "markdown",
   "metadata": {},
   "source": [
    "# U.S. Medical Insurance Costs"
   ]
  },
  {
   "cell_type": "markdown",
   "metadata": {},
   "source": [
    " Within this project, I aim to perform some analysis on data concerning U.S. Medical Insurance Costs. Furthermore, this project is a tool for me to put my Python skills into practice. I will be showcasing my knowledge of lists, loops, functions, dictionaries and so on here. We are told that this data contains no missing elements so no editing of the data is needed. Let's first begin by having a look at the dimensions of the dataset and seeing what variables it contains. "
   ]
  },
  {
   "cell_type": "code",
   "execution_count": 1,
   "metadata": {},
   "outputs": [],
   "source": [
    "import pandas as pd"
   ]
  },
  {
   "cell_type": "code",
   "execution_count": 2,
   "metadata": {
    "scrolled": true
   },
   "outputs": [
    {
     "name": "stdout",
     "output_type": "stream",
     "text": [
      "      age     sex     bmi  children smoker     region      charges\n",
      "0      19  female  27.900         0    yes  southwest  16884.92400\n",
      "1      18    male  33.770         1     no  southeast   1725.55230\n",
      "2      28    male  33.000         3     no  southeast   4449.46200\n",
      "3      33    male  22.705         0     no  northwest  21984.47061\n",
      "4      32    male  28.880         0     no  northwest   3866.85520\n",
      "...   ...     ...     ...       ...    ...        ...          ...\n",
      "1333   50    male  30.970         3     no  northwest  10600.54830\n",
      "1334   18  female  31.920         0     no  northeast   2205.98080\n",
      "1335   18  female  36.850         0     no  southeast   1629.83350\n",
      "1336   21  female  25.800         0     no  southwest   2007.94500\n",
      "1337   61  female  29.070         0    yes  northwest  29141.36030\n",
      "\n",
      "[1338 rows x 7 columns]\n"
     ]
    }
   ],
   "source": [
    "medical_data = pd.read_csv('insurance.csv')\n",
    "print(medical_data)"
   ]
  },
  {
   "cell_type": "markdown",
   "metadata": {},
   "source": [
    "#### The data consists of 7 variables:\n",
    "- Age \n",
    "- Sex\n",
    "- BMI\n",
    "- Children\n",
    "- Smoker\n",
    "- Medical charges\n",
    "\n",
    "Sex, Smoker and Region are catergorical variables. Whilst we are not building models in this project, it's worth noting that the data set would need to be modified further to accomodate for this (i.e. (k-1) columns of 0's and 1's assigning the observations to one of the k catergories). Children and Age are count variables. Finally charges and bmi are continuous variables. \n",
    "\n",
    "Furthermore, we can see that the data contains 1338 observations. This is a relatviely small sample size, meaning that conclusions made aren't strongly backed by the data. We now need to convert each observation in the dataframe into a dictionary so that basic analysis can be conducted. "
   ]
  },
  {
   "cell_type": "code",
   "execution_count": 3,
   "metadata": {},
   "outputs": [],
   "source": [
    "import csv as c"
   ]
  },
  {
   "cell_type": "code",
   "execution_count": 4,
   "metadata": {},
   "outputs": [],
   "source": [
    "with open('insurance.csv', newline='') as insurance_csv:\n",
    "    reader = c.DictReader(insurance_csv)\n",
    "    medical_data = []\n",
    "    for i in reader:\n",
    "        medical_data.append(i)"
   ]
  },
  {
   "cell_type": "markdown",
   "metadata": {},
   "source": [
    "Let's begin by seeing the average values for age, bmi, number of children, and medical charges. "
   ]
  },
  {
   "cell_type": "code",
   "execution_count": 7,
   "metadata": {},
   "outputs": [
    {
     "data": {
      "text/plain": [
       "39.20702541106129"
      ]
     },
     "execution_count": 7,
     "metadata": {},
     "output_type": "execute_result"
    }
   ],
   "source": [
    "age_total = 0 \n",
    "for i in medical_data:\n",
    "    age_total += int(i['age'])\n",
    "average_age = age_total / len(medical_data)\n",
    "average_age"
   ]
  },
  {
   "cell_type": "code",
   "execution_count": 8,
   "metadata": {},
   "outputs": [
    {
     "data": {
      "text/plain": [
       "30.663396860986538"
      ]
     },
     "execution_count": 8,
     "metadata": {},
     "output_type": "execute_result"
    }
   ],
   "source": [
    "bmi_total = 0 \n",
    "for i in medical_data:\n",
    "    bmi_total += float(i['bmi'])\n",
    "average_bmi = bmi_total / len(medical_data)\n",
    "average_bmi"
   ]
  },
  {
   "cell_type": "code",
   "execution_count": 9,
   "metadata": {},
   "outputs": [
    {
     "data": {
      "text/plain": [
       "1.0949177877429"
      ]
     },
     "execution_count": 9,
     "metadata": {},
     "output_type": "execute_result"
    }
   ],
   "source": [
    "children_total = 0 \n",
    "for i in medical_data:\n",
    "    children_total += int(i['children'])\n",
    "average_children = children_total / len(medical_data)\n",
    "average_children"
   ]
  },
  {
   "cell_type": "code",
   "execution_count": 10,
   "metadata": {},
   "outputs": [
    {
     "data": {
      "text/plain": [
       "13270.422265141257"
      ]
     },
     "execution_count": 10,
     "metadata": {},
     "output_type": "execute_result"
    }
   ],
   "source": [
    "charges_total = 0 \n",
    "for i in medical_data:\n",
    "    charges_total += float(i['charges'])\n",
    "average_charges = charges_total / len(medical_data)\n",
    "average_charges"
   ]
  },
  {
   "cell_type": "markdown",
   "metadata": {},
   "source": [
    "There are a few key conlusions we can draw from these averages: \n",
    "- On average, our sample has a BMI of 30.7 (to 2d.p). Considering that the BMI range to be considered healthy is 18.5 to 24.9, this suggests that people are overweight on average. This could play an affect on medical costs as being overweight puts a stress on your health. This is something that could be explored with linear regression (but won't be a part of this project).\n",
    "- The average person has 1 child (the statistic showing a value slightly greater than 1). Having children could have an impact on medical charges as some people become more cautious when they're a parent which might lead to less medical charges for accidents. This is something we can look at by comparing the average medial charges for people with children and without. \n",
    "- The average age is 39 (to 2 s.f) which doesn't tell us alot without looking at skewness and variance to know how the data is distributed (not to be done in this poject but something to think about). \n",
    "\n",
    "Now, let's compare how the medical charges vary depending on different catergorial variables. So to begin with let's compare the average medical charges to the average medical charges for smokers and non-smokers."
   ]
  },
  {
   "cell_type": "code",
   "execution_count": 11,
   "metadata": {},
   "outputs": [
    {
     "data": {
      "text/plain": [
       "32050.23183153285"
      ]
     },
     "execution_count": 11,
     "metadata": {},
     "output_type": "execute_result"
    }
   ],
   "source": [
    "count = 0 \n",
    "total = 0 \n",
    "for i in medical_data:\n",
    "    if i['smoker'] == 'yes' : \n",
    "        count += 1 \n",
    "        total += float(i['charges'])\n",
    "average_charges_for_smokers = total / count\n",
    "average_charges_for_smokers"
   ]
  },
  {
   "cell_type": "code",
   "execution_count": 12,
   "metadata": {},
   "outputs": [
    {
     "data": {
      "text/plain": [
       "8434.268297856199"
      ]
     },
     "execution_count": 12,
     "metadata": {},
     "output_type": "execute_result"
    }
   ],
   "source": [
    "count_non = 0 \n",
    "total_non = 0 \n",
    "for i in medical_data:\n",
    "    if i['smoker'] == 'no' : \n",
    "        count_non += 1 \n",
    "        total_non += float(i['charges'])\n",
    "average_charges_for_non_smokers = total_non / count_non\n",
    "average_charges_for_non_smokers"
   ]
  },
  {
   "cell_type": "markdown",
   "metadata": {},
   "source": [
    "It is clear to see that being a smoker dramatically increases a person's medical charges. This is unsurprising as smokers often require more medical services for the consequences of smoking. \n",
    "Now, let's conduct a similar analysis of female's and male's medical charges. "
   ]
  },
  {
   "cell_type": "code",
   "execution_count": 13,
   "metadata": {},
   "outputs": [
    {
     "data": {
      "text/plain": [
       "13956.751177721886"
      ]
     },
     "execution_count": 13,
     "metadata": {},
     "output_type": "execute_result"
    }
   ],
   "source": [
    "count_male = 0 \n",
    "total_male = 0 \n",
    "for i in medical_data:\n",
    "    if i['sex'] == 'male' : \n",
    "        count_male += 1 \n",
    "        total_male += float(i['charges'])\n",
    "average_charges_for_male = total_male / count_male\n",
    "average_charges_for_male"
   ]
  },
  {
   "cell_type": "code",
   "execution_count": 14,
   "metadata": {},
   "outputs": [
    {
     "data": {
      "text/plain": [
       "12569.57884383534"
      ]
     },
     "execution_count": 14,
     "metadata": {},
     "output_type": "execute_result"
    }
   ],
   "source": [
    "count_female = 0 \n",
    "total_female = 0 \n",
    "for i in medical_data:\n",
    "    if i['sex'] == 'female' : \n",
    "        count_female += 1 \n",
    "        total_female += float(i['charges'])\n",
    "average_charges_for_female = total_female / count_female\n",
    "average_charges_for_female"
   ]
  },
  {
   "cell_type": "code",
   "execution_count": 28,
   "metadata": {},
   "outputs": [
    {
     "data": {
      "text/plain": [
       "1387.1723338865468"
      ]
     },
     "execution_count": 28,
     "metadata": {},
     "output_type": "execute_result"
    }
   ],
   "source": [
    "diff_sex = abs(average_charges_for_male - average_charges_for_female)\n",
    "diff_sex"
   ]
  },
  {
   "cell_type": "markdown",
   "metadata": {},
   "source": [
    "Men on average have larger medical costs in comparison to women. There was a difference of 1387.17 dollars (to 2d.p). I don't this difference is enough to make any inferences from. Medical costs in America are very expensive, so the difference of over $1000 is negligible. \n",
    "\n",
    "Finally, let's see how medical charges vary depending which region in the country the individuals live. "
   ]
  },
  {
   "cell_type": "code",
   "execution_count": 16,
   "metadata": {},
   "outputs": [
    {
     "data": {
      "text/plain": [
       "13406.3845163858"
      ]
     },
     "execution_count": 16,
     "metadata": {},
     "output_type": "execute_result"
    }
   ],
   "source": [
    "count_ne = 0 \n",
    "total_ne = 0 \n",
    "for i in medical_data:\n",
    "    if i['region'] == 'northeast' : \n",
    "        count_ne += 1 \n",
    "        total_ne += float(i['charges'])\n",
    "average_charges_for_ne = total_ne / count_ne\n",
    "average_charges_for_ne"
   ]
  },
  {
   "cell_type": "code",
   "execution_count": 17,
   "metadata": {},
   "outputs": [
    {
     "data": {
      "text/plain": [
       "12417.575373969228"
      ]
     },
     "execution_count": 17,
     "metadata": {},
     "output_type": "execute_result"
    }
   ],
   "source": [
    "count_nw = 0 \n",
    "total_nw = 0 \n",
    "for i in medical_data:\n",
    "    if i['region'] == 'northwest' : \n",
    "        count_nw += 1 \n",
    "        total_nw += float(i['charges'])\n",
    "average_charges_for_nw = total_nw / count_nw\n",
    "average_charges_for_nw"
   ]
  },
  {
   "cell_type": "code",
   "execution_count": 18,
   "metadata": {},
   "outputs": [
    {
     "data": {
      "text/plain": [
       "14735.411437609895"
      ]
     },
     "execution_count": 18,
     "metadata": {},
     "output_type": "execute_result"
    }
   ],
   "source": [
    "count_se = 0 \n",
    "total_se = 0 \n",
    "for i in medical_data:\n",
    "    if i['region'] == 'southeast' : \n",
    "        count_se += 1 \n",
    "        total_se += float(i['charges'])\n",
    "average_charges_for_se = total_se / count_se\n",
    "average_charges_for_se"
   ]
  },
  {
   "cell_type": "code",
   "execution_count": 19,
   "metadata": {},
   "outputs": [
    {
     "data": {
      "text/plain": [
       "12346.93737729231"
      ]
     },
     "execution_count": 19,
     "metadata": {},
     "output_type": "execute_result"
    }
   ],
   "source": [
    "count_sw = 0 \n",
    "total_sw = 0 \n",
    "for i in medical_data:\n",
    "    if i['region'] == 'southwest' : \n",
    "        count_sw += 1 \n",
    "        total_sw += float(i['charges'])\n",
    "average_charges_for_sw = total_sw / count_sw\n",
    "average_charges_for_sw"
   ]
  },
  {
   "cell_type": "markdown",
   "metadata": {},
   "source": [
    "Whilst there are variations in avergae medical charges in all the regions, none of them are striking out as drastic in comparison to the others. The small variations seen could be due to some areas of the country charging slightly more money for the same services than other areas, but we have no information to support that. "
   ]
  },
  {
   "cell_type": "markdown",
   "metadata": {},
   "source": [
    "All these previous caluclation have been done by constructing seperate loops for each average. This can be simplified by creating a function. Furthermore, I'm going to extend the function so that we can also choose what numerical variable we want the average of (so not just medical charges). This will allow for greater depth of our analysis. This is done as follows:"
   ]
  },
  {
   "cell_type": "code",
   "execution_count": 20,
   "metadata": {},
   "outputs": [],
   "source": [
    " def average(cat_variable_being_split, chosen_sub_section , variable_to_average):\n",
    "    count = 0 \n",
    "    total = 0 \n",
    "    for i in medical_data:\n",
    "        if i[cat_variable_being_split] == chosen_sub_section : \n",
    "            count += 1 \n",
    "            total += float(i[variable_to_average])\n",
    "    return total / count"
   ]
  },
  {
   "cell_type": "markdown",
   "metadata": {},
   "source": [
    "This function takes 3 inputs: \n",
    "- The catergorical variable we want to split (cat_variable_being_split)\n",
    "- A catergory in that variable we want to isolate and find its average (chosen_sub_section)\n",
    "- The variable we want to take the average of (for the observations that fit into the criteria)(variable_to_average)\n",
    "\n",
    "Now let's test it out!"
   ]
  },
  {
   "cell_type": "code",
   "execution_count": 21,
   "metadata": {},
   "outputs": [
    {
     "data": {
      "text/plain": [
       "12569.57884383534"
      ]
     },
     "execution_count": 21,
     "metadata": {},
     "output_type": "execute_result"
    }
   ],
   "source": [
    "average('sex', 'female', 'charges')"
   ]
  },
  {
   "cell_type": "markdown",
   "metadata": {},
   "source": [
    "We got the same result as before!! Now, we can use this function to not only see how medical charges vary between factors, but also bmi, age, and so on.  "
   ]
  },
  {
   "cell_type": "markdown",
   "metadata": {},
   "source": [
    "I now want to see whether the sex of a person affects their bmi. So let's calculate the average bmi for males and females. But before conducting this analysis, we should see what the mean age is for both female and male data. This is because if the mean age is significantly higher for one sex, that could give misleading results. "
   ]
  },
  {
   "cell_type": "code",
   "execution_count": 22,
   "metadata": {},
   "outputs": [
    {
     "data": {
      "text/plain": [
       "38.917159763313606"
      ]
     },
     "execution_count": 22,
     "metadata": {},
     "output_type": "execute_result"
    }
   ],
   "source": [
    "average('sex','male','age')"
   ]
  },
  {
   "cell_type": "code",
   "execution_count": 23,
   "metadata": {},
   "outputs": [
    {
     "data": {
      "text/plain": [
       "39.503021148036254"
      ]
     },
     "execution_count": 23,
     "metadata": {},
     "output_type": "execute_result"
    }
   ],
   "source": [
    "average('sex','female','age')"
   ]
  },
  {
   "cell_type": "markdown",
   "metadata": {},
   "source": [
    "So the average age for males is 39 (to 2sf) whereas for females, it is 40 (to 2sf). This therefore suggests that it will be useful to compare the two sexes as they have similar average ages and that shouldn't skew the resutls. Thus, we get the mean bmi values for females and males as follows :"
   ]
  },
  {
   "cell_type": "code",
   "execution_count": 24,
   "metadata": {},
   "outputs": [
    {
     "data": {
      "text/plain": [
       "30.943128698224832"
      ]
     },
     "execution_count": 24,
     "metadata": {},
     "output_type": "execute_result"
    }
   ],
   "source": [
    "average('sex','male','bmi')"
   ]
  },
  {
   "cell_type": "code",
   "execution_count": 25,
   "metadata": {},
   "outputs": [
    {
     "data": {
      "text/plain": [
       "30.377749244713023"
      ]
     },
     "execution_count": 25,
     "metadata": {},
     "output_type": "execute_result"
    }
   ],
   "source": [
    "average('sex','female','bmi')"
   ]
  },
  {
   "cell_type": "markdown",
   "metadata": {},
   "source": [
    "So we can see that the difference between the average bmi value for males and females is negligible. This therefore gives evidence to suggest that the sex of a person doesn't affect their bmi. \n",
    "\n",
    "Now let's see whether being a smoker affects someone's bmi."
   ]
  },
  {
   "cell_type": "code",
   "execution_count": 26,
   "metadata": {},
   "outputs": [
    {
     "data": {
      "text/plain": [
       "30.708448905109503"
      ]
     },
     "execution_count": 26,
     "metadata": {},
     "output_type": "execute_result"
    }
   ],
   "source": [
    "average('smoker','yes','bmi')"
   ]
  },
  {
   "cell_type": "code",
   "execution_count": 27,
   "metadata": {},
   "outputs": [
    {
     "data": {
      "text/plain": [
       "30.651795112781922"
      ]
     },
     "execution_count": 27,
     "metadata": {},
     "output_type": "execute_result"
    }
   ],
   "source": [
    "average('smoker','no','bmi')"
   ]
  },
  {
   "cell_type": "markdown",
   "metadata": {},
   "source": [
    "Again like sex, being a smoker doesn't affect the bmi of a person. This gives evidence to suggest that you can;t determine the factors that affect bmi so clearly.\n",
    "\n",
    "For my next portion of analysis, I will see how children affects medical costs. To do this, we will create a loop that goes from 0 to the maximum number of children, outputting the average medical costs for each number of children."
   ]
  },
  {
   "cell_type": "code",
   "execution_count": 43,
   "metadata": {},
   "outputs": [],
   "source": [
    "children = []\n",
    "for i in medical_data:\n",
    "    children.append(int(i['children']))"
   ]
  },
  {
   "cell_type": "code",
   "execution_count": 45,
   "metadata": {},
   "outputs": [
    {
     "data": {
      "text/plain": [
       "5"
      ]
     },
     "execution_count": 45,
     "metadata": {},
     "output_type": "execute_result"
    }
   ],
   "source": [
    "max(children)"
   ]
  },
  {
   "cell_type": "code",
   "execution_count": 47,
   "metadata": {},
   "outputs": [
    {
     "data": {
      "text/plain": [
       "{0: 12365.975601635882,\n",
       " 1: 12731.171831635793,\n",
       " 2: 15073.563733958328,\n",
       " 3: 15355.31836681528,\n",
       " 4: 13850.656311199999,\n",
       " 5: 8786.035247222222}"
      ]
     },
     "execution_count": 47,
     "metadata": {},
     "output_type": "execute_result"
    }
   ],
   "source": [
    "average_dict = {}\n",
    "for i in range(0, max(children)+1):\n",
    "    average_dict[i] = average('children',str(i),'charges')\n",
    "    \n",
    "average_dict\n",
    "    "
   ]
  },
  {
   "cell_type": "markdown",
   "metadata": {},
   "source": [
    "Before I infer anything from these averages, we need to see how many observations there are for each number of children so that we aren't making unrealistic conclusions."
   ]
  },
  {
   "cell_type": "code",
   "execution_count": 51,
   "metadata": {},
   "outputs": [
    {
     "data": {
      "text/plain": [
       "{0: 574, 1: 324, 2: 240, 3: 157, 4: 25, 5: 18}"
      ]
     },
     "execution_count": 51,
     "metadata": {},
     "output_type": "execute_result"
    }
   ],
   "source": [
    "count_dict = {}\n",
    "for i in range(0, max(children)+1):\n",
    "    count = 0 \n",
    "    for j in children:\n",
    "        if i ==  j:\n",
    "            count+= 1\n",
    "    count_dict[i] = count\n",
    "        \n",
    "count_dict"
   ]
  },
  {
   "cell_type": "markdown",
   "metadata": {},
   "source": [
    "We can clearly see there is very few observations for individuals with 4 or 5 children. We therefore should not draw too much from these averages as they don't have enough data backing them to truly represent what the population average is. "
   ]
  },
  {
   "cell_type": "markdown",
   "metadata": {},
   "source": [
    "Ignoring the avergaesfor individuals with 4 or 5 children, we can see a clear linear trend in the average medical costs. As the number of children increases, as does the average medical costs. Furthermore, there is a clear jump of over 2000 dollars from 1 to 2 children. I don't know what the reasoning behind this is but it's an intereting observation."
   ]
  },
  {
   "cell_type": "markdown",
   "metadata": {},
   "source": [
    "To conclude this project, I have showcased my understanding of the fundamentals of Python 3. I have used lists, loops, functions and dictionaries to carry out basic caluclations which I have then analysed to come to conclusions. With futher Python learning, this analysis could then lead into data modelling as well as some hypothesis testing to get some statistically back inferences."
   ]
  },
  {
   "cell_type": "code",
   "execution_count": null,
   "metadata": {},
   "outputs": [],
   "source": []
  }
 ],
 "metadata": {
  "kernelspec": {
   "display_name": "Python 3",
   "language": "python",
   "name": "python3"
  },
  "language_info": {
   "codemirror_mode": {
    "name": "ipython",
    "version": 3
   },
   "file_extension": ".py",
   "mimetype": "text/x-python",
   "name": "python",
   "nbconvert_exporter": "python",
   "pygments_lexer": "ipython3",
   "version": "3.8.8"
  }
 },
 "nbformat": 4,
 "nbformat_minor": 4
}
